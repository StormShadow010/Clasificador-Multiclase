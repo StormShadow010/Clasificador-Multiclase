{
 "cells": [
  {
   "cell_type": "markdown",
   "metadata": {},
   "source": [
    "# Integrantes:\n",
    "\n",
    "Andres Santiago Jiménez Guzmán \\\n",
    "Jhasley Nathalia Pinzón Saiz"
   ]
  },
  {
   "cell_type": "markdown",
   "metadata": {},
   "source": [
    "El proyecto que se muestra a continuación, se realiza con el fin de generar un código de clasificación, el cual a partir de una serie de características obtenidas por los patrones de las imágenes del artículo de turbidez (https://iwaponline.com/wst/article/84/10-11/2749/82733/The-effect-of-mobile-camera-selection-on-the) se busca generar una clasificación multiclase; para esto, se necesitó de la obtención previa de algunas características en las imágenes, en este caso se definieron el promedio de los contornos, del área de los contornos y la detección de esquinas de Harris, luego el paso a seguir es realizar la partición en dos conjuntos de datos más pequeños que serán utilizadas con los siguientes fines: entrenamiento, validación y test. Para el caso de la validación, se utilizaron varios modelos los cuales permitieron verificar que tan eficiente era el algoritmo en cada caso y así elegir el mejor modelo para aplicar en el test."
   ]
  },
  {
   "cell_type": "markdown",
   "metadata": {},
   "source": [
    "# Librerias"
   ]
  },
  {
   "cell_type": "markdown",
   "metadata": {},
   "source": [
    "Las librerías implementadas permiten:\n",
    "\n",
    "-pandas: La manipulación y el análisis de datos \\\n",
    "-os: Acceso a directorios (para leer y escribir archivos) \\\n",
    "-cv2: Tratamiento de las imágenes \\\n",
    "-numpy: Para el cálculo de vectores y matrices con funciones matemáticas de alto nivel \n",
    "\n",
    "\n"
   ]
  },
  {
   "cell_type": "code",
   "execution_count": 7,
   "metadata": {},
   "outputs": [],
   "source": [
    "import pandas as pd\n",
    "import os\n",
    "import cv2 as cv\n",
    "import numpy as np\n"
   ]
  },
  {
   "cell_type": "markdown",
   "metadata": {},
   "source": [
    "# Funciones"
   ]
  },
  {
   "cell_type": "markdown",
   "metadata": {},
   "source": [
    "La función image_processing(),se encarga del procesamiento de cada imagen de la base de datos de imágenes que se encuentra en el directorio \"DB\", por lo que para el tratamiento y obtención de característica, se redimensiona la imagen para así obtener tres características en este caso un promedio de los bordes detectados, un promedio de áreas de los contornos y el promedio de la detección de ángulos de Harris, lo cual se va guardando en los diferentes arreglos correspondientes a cada una de ellas, para posteriormente en la función excel_file() crear un archivo en el que se almacena la información de cada imagen generada previamente."
   ]
  },
  {
   "cell_type": "code",
   "execution_count": 8,
   "metadata": {},
   "outputs": [],
   "source": [
    "def image_processing(dir):\n",
    "    for file_name in dir:\n",
    "        images_dir='DB/Train/'+file_name\n",
    "        images = os.listdir(images_dir)\n",
    "        for c in images:\n",
    "            if file_name==\"Circle\":\n",
    "                figure_label.append(1)\n",
    "            elif file_name==\"Squares\":\n",
    "                figure_label.append(2)\n",
    "            else:\n",
    "                figure_label.append(3)\n",
    "\n",
    "            figure.append(file_name)\n",
    "            image_path = images_dir+'/'+c\n",
    "            src = cv.imread(image_path)\n",
    "            dsize = (200, 50)\n",
    "            output = cv.resize(src, dsize)\n",
    "            img_gray = cv.cvtColor(output, cv.COLOR_BGR2GRAY)\n",
    "            img_blur = cv.GaussianBlur(img_gray, (5,5), 0)\n",
    "            \n",
    "            #Corners Harris\n",
    "            dst = cv.cornerHarris(img_blur,2,3,0.04)\n",
    "            dst = cv.dilate(dst,None)\n",
    "            cornersharris.append(np.sum(dst.flatten())/len(dst))\n",
    "            \n",
    "            #Contornos y Area de contorno\n",
    "            canny = cv.Canny(img_blur, 50, 150)\n",
    "            (contornos,_) = cv.findContours(canny.copy(), cv.RETR_EXTERNAL, cv.CHAIN_APPROX_SIMPLE )\n",
    "            suma = []\n",
    "            area=[]\n",
    "            \n",
    "            #Promedio de los contornos y áreas\n",
    "            for c in contornos:\n",
    "                epsilon = 0.02*cv.arcLength(c,True)\n",
    "                approx = cv.approxPolyDP(c,epsilon,True)\n",
    "                suma.append(np.sum(approx)/len(approx))\n",
    "                area.append(cv.contourArea(c))\n",
    "            bordersprom.append(np.sum(suma)/len(contornos))\n",
    "            areaborders.append(np.sum(area)/len(area))\n",
    "            suma = []\n",
    "            area=[]\n",
    "\n",
    "\n",
    "def excel_file():\n",
    "    data = {'Figure_label':figure_label,'Figure': figure,'Borders_prom': bordersprom,'Areas_prom':areaborders,'Angle_Harris': cornersharris}\n",
    "    df = pd.DataFrame(data, columns=['Figure_label', 'Figure', 'Borders_prom','Areas_prom','Angle_Harris'])\n",
    "    df.to_excel('data/datosObtenidos.xlsx', sheet_name='Data')\n"
   ]
  },
  {
   "cell_type": "markdown",
   "metadata": {},
   "source": [
    "A continuación en el main se hace la lectura de todas las imágenes que se encuentran en el directorio \"Train\" de las cuales se obtienen los datos anteriormente mencionados y se guardan en un archivo Excel por medio de las funciones image_processing() y excel_file()"
   ]
  },
  {
   "cell_type": "code",
   "execution_count": 9,
   "metadata": {},
   "outputs": [],
   "source": [
    "def main():\n",
    "    ejemplo_dir = 'DB/Train'\n",
    "    files_names = os.listdir(ejemplo_dir)\n",
    "    image_processing(files_names)\n",
    "    excel_file()"
   ]
  },
  {
   "cell_type": "markdown",
   "metadata": {},
   "source": [
    "Finalmente, se configuran los arreglos en los cuales se almacenan las características para que se puedan enviar a la base de datos correctamente"
   ]
  },
  {
   "cell_type": "code",
   "execution_count": 10,
   "metadata": {},
   "outputs": [],
   "source": [
    "ID=[]\n",
    "figure_label=[]\n",
    "figure=[]\n",
    "bordersprom=[]\n",
    "areaborders=[]\n",
    "cornersharris=[]\n",
    "\n",
    "if __name__==\"__main__\":\n",
    "    main()\n"
   ]
  },
  {
   "cell_type": "markdown",
   "metadata": {},
   "source": [
    "Ahora se continua con el archivo models.ipynb"
   ]
  }
 ],
 "metadata": {
  "interpreter": {
   "hash": "caa4bac2976725fb784072d3da90fc1e919079a28232bef91ea16ce43814682e"
  },
  "kernelspec": {
   "display_name": "Python 3.9.7 64-bit",
   "language": "python",
   "name": "python3"
  },
  "language_info": {
   "codemirror_mode": {
    "name": "ipython",
    "version": 3
   },
   "file_extension": ".py",
   "mimetype": "text/x-python",
   "name": "python",
   "nbconvert_exporter": "python",
   "pygments_lexer": "ipython3",
   "version": "3.9.7"
  },
  "orig_nbformat": 4
 },
 "nbformat": 4,
 "nbformat_minor": 2
}
