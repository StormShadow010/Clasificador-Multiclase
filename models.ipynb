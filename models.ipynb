{
 "cells": [
  {
   "cell_type": "markdown",
   "metadata": {},
   "source": [
    "## Librerias"
   ]
  },
  {
   "cell_type": "markdown",
   "metadata": {},
   "source": [
    "Las librerías implementadas permiten:\n",
    "\n",
    "-pandas: La manipulación y el análisis de datos \\\n",
    "-matplotlib: Permite crear y personalizar los tipos de gráficos más comunes \\\n",
    "-seaborn: Visualización de datos para Python desarrollada sobre matplotlib . Ofrece una interfaz de alto nivel para la creación de atractivas gráficas. \\\n",
    "-sklearn: Para algoritmos de clasificación, regresión, clustering y reducción de dimensionalidad. \n"
   ]
  },
  {
   "cell_type": "code",
   "execution_count": 1,
   "metadata": {},
   "outputs": [],
   "source": [
    "import pandas as pd\n",
    "import matplotlib.pyplot as plt\n",
    "import seaborn as sns\n",
    "from matplotlib import cm\n",
    "from sklearn.model_selection import train_test_split\n",
    "from sklearn.preprocessing import MinMaxScaler\n",
    "from sklearn.linear_model import LogisticRegression\n",
    "from sklearn.neighbors import KNeighborsClassifier\n",
    "from sklearn.discriminant_analysis import LinearDiscriminantAnalysis\n",
    "from sklearn.naive_bayes import GaussianNB\n",
    "from sklearn.svm import SVC\n",
    "from sklearn.metrics import classification_report\n",
    "from sklearn.metrics import confusion_matrix"
   ]
  },
  {
   "cell_type": "markdown",
   "metadata": {},
   "source": [
    "## Cargando datos"
   ]
  },
  {
   "cell_type": "markdown",
   "metadata": {},
   "source": [
    "Lo primero que hacemos es traer los datos de las características para esto se utilizó pd.read_excel() el cual permite realizar la lectura del Excel el cual previamente creamos en clasification.ipynb, "
   ]
  },
  {
   "cell_type": "code",
   "execution_count": 2,
   "metadata": {},
   "outputs": [
    {
     "data": {
      "text/html": [
       "<div>\n",
       "<style scoped>\n",
       "    .dataframe tbody tr th:only-of-type {\n",
       "        vertical-align: middle;\n",
       "    }\n",
       "\n",
       "    .dataframe tbody tr th {\n",
       "        vertical-align: top;\n",
       "    }\n",
       "\n",
       "    .dataframe thead th {\n",
       "        text-align: right;\n",
       "    }\n",
       "</style>\n",
       "<table border=\"1\" class=\"dataframe\">\n",
       "  <thead>\n",
       "    <tr style=\"text-align: right;\">\n",
       "      <th></th>\n",
       "      <th>Unnamed: 0</th>\n",
       "      <th>Figure_label</th>\n",
       "      <th>Figure</th>\n",
       "      <th>Borders_prom</th>\n",
       "      <th>Areas_prom</th>\n",
       "      <th>Angle_Harris</th>\n",
       "    </tr>\n",
       "  </thead>\n",
       "  <tbody>\n",
       "    <tr>\n",
       "      <th>0</th>\n",
       "      <td>0</td>\n",
       "      <td>1</td>\n",
       "      <td>Circle</td>\n",
       "      <td>91.906217</td>\n",
       "      <td>168.000000</td>\n",
       "      <td>0.000507</td>\n",
       "    </tr>\n",
       "    <tr>\n",
       "      <th>1</th>\n",
       "      <td>1</td>\n",
       "      <td>1</td>\n",
       "      <td>Circle</td>\n",
       "      <td>110.545370</td>\n",
       "      <td>48.333333</td>\n",
       "      <td>0.000918</td>\n",
       "    </tr>\n",
       "    <tr>\n",
       "      <th>2</th>\n",
       "      <td>2</td>\n",
       "      <td>1</td>\n",
       "      <td>Circle</td>\n",
       "      <td>115.060232</td>\n",
       "      <td>116.892857</td>\n",
       "      <td>0.001150</td>\n",
       "    </tr>\n",
       "    <tr>\n",
       "      <th>3</th>\n",
       "      <td>3</td>\n",
       "      <td>1</td>\n",
       "      <td>Circle</td>\n",
       "      <td>92.267347</td>\n",
       "      <td>217.785714</td>\n",
       "      <td>0.000308</td>\n",
       "    </tr>\n",
       "    <tr>\n",
       "      <th>4</th>\n",
       "      <td>4</td>\n",
       "      <td>1</td>\n",
       "      <td>Circle</td>\n",
       "      <td>114.170918</td>\n",
       "      <td>15.785714</td>\n",
       "      <td>0.000905</td>\n",
       "    </tr>\n",
       "  </tbody>\n",
       "</table>\n",
       "</div>"
      ],
      "text/plain": [
       "   Unnamed: 0  Figure_label  Figure  Borders_prom  Areas_prom  Angle_Harris\n",
       "0           0             1  Circle     91.906217  168.000000      0.000507\n",
       "1           1             1  Circle    110.545370   48.333333      0.000918\n",
       "2           2             1  Circle    115.060232  116.892857      0.001150\n",
       "3           3             1  Circle     92.267347  217.785714      0.000308\n",
       "4           4             1  Circle    114.170918   15.785714      0.000905"
      ]
     },
     "execution_count": 2,
     "metadata": {},
     "output_type": "execute_result"
    }
   ],
   "source": [
    "df = pd.read_excel('data/datosObtenidos.xlsx')\n",
    "df.head()"
   ]
  },
  {
   "cell_type": "markdown",
   "metadata": {},
   "source": [
    "A continuación, se imprime la cantidad de muestras que se tomaron (columnas, filas), las categorías que se manejan en la base de datos y el número de figuras/muestras que se tomaron para cada caso"
   ]
  },
  {
   "cell_type": "code",
   "execution_count": 3,
   "metadata": {},
   "outputs": [
    {
     "name": "stdout",
     "output_type": "stream",
     "text": [
      "------\n",
      "Samples\n",
      "(59, 6)\n",
      "------\n",
      "Categories\n",
      "['Circle' 'Secchi3000' 'Squares']\n",
      "------\n",
      "Number of examples per class\n",
      "Figure\n",
      "Circle        19\n",
      "Secchi3000    20\n",
      "Squares       20\n",
      "dtype: int64\n",
      "------\n"
     ]
    }
   ],
   "source": [
    "print('------')\n",
    "print('Samples')\n",
    "print(df.shape)\n",
    "print('------')\n",
    "print('Categories')\n",
    "print(df['Figure'].unique())\n",
    "print('------')\n",
    "print('Number of examples per class')\n",
    "print(df.groupby('Figure').size())\n",
    "print('------')"
   ]
  },
  {
   "cell_type": "markdown",
   "metadata": {},
   "source": [
    "Con sns.countplot() se toman los datos de la columna de \"figure\" y se realiza una grafica en donde se evidencian los datos recaudados en cada categoría"
   ]
  },
  {
   "cell_type": "code",
   "execution_count": 4,
   "metadata": {},
   "outputs": [
    {
     "name": "stderr",
     "output_type": "stream",
     "text": [
      "C:\\Users\\asjim\\AppData\\Local\\Programs\\Python\\Python39\\lib\\site-packages\\seaborn\\_decorators.py:36: FutureWarning: Pass the following variable as a keyword arg: x. From version 0.12, the only valid positional argument will be `data`, and passing other arguments without an explicit keyword will result in an error or misinterpretation.\n",
      "  warnings.warn(\n"
     ]
    },
    {
     "data": {
      "image/png": "[encoded data removed]",
      "text/plain": [
       "<Figure size 432x288 with 1 Axes>"
      ]
     },
     "metadata": {
      "needs_background": "light"
     },
     "output_type": "display_data"
    }
   ],
   "source": [
    "sns.countplot(df['Figure'],label=\"Count\")\n",
    "plt.show()"
   ]
  },
  {
   "cell_type": "markdown",
   "metadata": {},
   "source": [
    "# Visualización"
   ]
  },
  {
   "cell_type": "markdown",
   "metadata": {},
   "source": [
    "Ahora se hace la muestra de un diagrama de caja de cada característica, del cual se puede observar los mínimos, máximos y mediana del conjunto de datos y en donde se centran más estos, ya sea cerca al mínimo como el promedio de las áreas de los contornos, cerca al máximo como los ángulos de Harris o más centrado como lo es en el caso del promedio de los bordes"
   ]
  },
  {
   "cell_type": "code",
   "execution_count": 5,
   "metadata": {},
   "outputs": [
    {
     "data": {
      "image/png": "[encoded data removed]",
      "text/plain": [
       "<Figure size 648x648 with 4 Axes>"
      ]
     },
     "metadata": {
      "needs_background": "light"
     },
     "output_type": "display_data"
    }
   ],
   "source": [
    "df.drop('Figure_label', axis=1).plot(kind='box', subplots=True, layout=(2,2), sharex=False, sharey=False, figsize=(9,9), \n",
    "                                        title='Box Plot for each input variable')\n",
    "plt.savefig('data/Figures_box')\n",
    "plt.show()"
   ]
  },
  {
   "cell_type": "markdown",
   "metadata": {},
   "source": [
    "# Extracción de características y correlaciones"
   ]
  },
  {
   "cell_type": "markdown",
   "metadata": {},
   "source": [
    "En esta sección se hace la asignación de x,y en donde \"X\" corresponde a las características de cada imagen y \"Y\" al número correspondiente de cada figura (circulo=1, secchi3000=2, cuadrado=3), de igual forma se muestra la gráfica de dispersión en donde se puede observar la distribución de los datos y así poder encontrar patrones y relaciones entre los datos"
   ]
  },
  {
   "cell_type": "code",
   "execution_count": 6,
   "metadata": {},
   "outputs": [
    {
     "data": {
      "image/png": "[encoded data removed]",
      "text/plain": [
       "<Figure size 648x648 with 9 Axes>"
      ]
     },
     "metadata": {
      "needs_background": "light"
     },
     "output_type": "display_data"
    }
   ],
   "source": [
    "feature_names = ['Borders_prom','Areas_prom','Angle_Harris']\n",
    "X = df[feature_names]\n",
    "y = df['Figure_label']\n",
    "cmap = cm.get_cmap('gnuplot')\n",
    "scatter = pd.plotting.scatter_matrix(X, c = y, marker = 'o', s=40, hist_kwds={'bins':15}, figsize=(9,9), cmap = cmap)\n",
    "plt.suptitle('Scatter-matrix for each input variable')\n",
    "plt.savefig('data/figures_scatter_matrix')"
   ]
  },
  {
   "cell_type": "markdown",
   "metadata": {},
   "source": [
    "# Statistical description"
   ]
  },
  {
   "cell_type": "markdown",
   "metadata": {},
   "source": [
    "Con la funcion .describe() se muestran ciertos valores estadísticos de la base de datos como cantidad de datos, media, mínimos entre otros datos más que permiten sintetizar, comparar e interpretar de forma sencilla el conjunto de características "
   ]
  },
  {
   "cell_type": "code",
   "execution_count": 7,
   "metadata": {},
   "outputs": [
    {
     "data": {
      "text/html": [
       "<div>\n",
       "<style scoped>\n",
       "    .dataframe tbody tr th:only-of-type {\n",
       "        vertical-align: middle;\n",
       "    }\n",
       "\n",
       "    .dataframe tbody tr th {\n",
       "        vertical-align: top;\n",
       "    }\n",
       "\n",
       "    .dataframe thead th {\n",
       "        text-align: right;\n",
       "    }\n",
       "</style>\n",
       "<table border=\"1\" class=\"dataframe\">\n",
       "  <thead>\n",
       "    <tr style=\"text-align: right;\">\n",
       "      <th></th>\n",
       "      <th>Unnamed: 0</th>\n",
       "      <th>Figure_label</th>\n",
       "      <th>Borders_prom</th>\n",
       "      <th>Areas_prom</th>\n",
       "      <th>Angle_Harris</th>\n",
       "    </tr>\n",
       "  </thead>\n",
       "  <tbody>\n",
       "    <tr>\n",
       "      <th>count</th>\n",
       "      <td>59.000000</td>\n",
       "      <td>59.000000</td>\n",
       "      <td>59.000000</td>\n",
       "      <td>59.000000</td>\n",
       "      <td>59.000000</td>\n",
       "    </tr>\n",
       "    <tr>\n",
       "      <th>mean</th>\n",
       "      <td>29.000000</td>\n",
       "      <td>2.016949</td>\n",
       "      <td>95.052728</td>\n",
       "      <td>146.019233</td>\n",
       "      <td>0.000169</td>\n",
       "    </tr>\n",
       "    <tr>\n",
       "      <th>std</th>\n",
       "      <td>17.175564</td>\n",
       "      <td>0.819830</td>\n",
       "      <td>16.102730</td>\n",
       "      <td>96.168474</td>\n",
       "      <td>0.000664</td>\n",
       "    </tr>\n",
       "    <tr>\n",
       "      <th>min</th>\n",
       "      <td>0.000000</td>\n",
       "      <td>1.000000</td>\n",
       "      <td>63.811806</td>\n",
       "      <td>13.875000</td>\n",
       "      <td>-0.001411</td>\n",
       "    </tr>\n",
       "    <tr>\n",
       "      <th>25%</th>\n",
       "      <td>14.500000</td>\n",
       "      <td>1.000000</td>\n",
       "      <td>86.408854</td>\n",
       "      <td>75.899621</td>\n",
       "      <td>-0.000257</td>\n",
       "    </tr>\n",
       "    <tr>\n",
       "      <th>50%</th>\n",
       "      <td>29.000000</td>\n",
       "      <td>2.000000</td>\n",
       "      <td>90.679398</td>\n",
       "      <td>137.071429</td>\n",
       "      <td>0.000198</td>\n",
       "    </tr>\n",
       "    <tr>\n",
       "      <th>75%</th>\n",
       "      <td>43.500000</td>\n",
       "      <td>3.000000</td>\n",
       "      <td>106.536458</td>\n",
       "      <td>197.181250</td>\n",
       "      <td>0.000605</td>\n",
       "    </tr>\n",
       "    <tr>\n",
       "      <th>max</th>\n",
       "      <td>58.000000</td>\n",
       "      <td>3.000000</td>\n",
       "      <td>136.150000</td>\n",
       "      <td>391.100000</td>\n",
       "      <td>0.001209</td>\n",
       "    </tr>\n",
       "  </tbody>\n",
       "</table>\n",
       "</div>"
      ],
      "text/plain": [
       "       Unnamed: 0  Figure_label  Borders_prom  Areas_prom  Angle_Harris\n",
       "count   59.000000     59.000000     59.000000   59.000000     59.000000\n",
       "mean    29.000000      2.016949     95.052728  146.019233      0.000169\n",
       "std     17.175564      0.819830     16.102730   96.168474      0.000664\n",
       "min      0.000000      1.000000     63.811806   13.875000     -0.001411\n",
       "25%     14.500000      1.000000     86.408854   75.899621     -0.000257\n",
       "50%     29.000000      2.000000     90.679398  137.071429      0.000198\n",
       "75%     43.500000      3.000000    106.536458  197.181250      0.000605\n",
       "max     58.000000      3.000000    136.150000  391.100000      0.001209"
      ]
     },
     "execution_count": 7,
     "metadata": {},
     "output_type": "execute_result"
    }
   ],
   "source": [
    "df.describe()"
   ]
  },
  {
   "cell_type": "markdown",
   "metadata": {},
   "source": [
    "# Cálculo de conjuntos de datos de entrenamiento, validación y prueba"
   ]
  },
  {
   "cell_type": "markdown",
   "metadata": {},
   "source": [
    "Para esto se calcularon dos subconjuntos de los datos, unos de entrenamiento y otros de prueba(test, train), ahora se toman estos datos y se parten en dos conjuntos adicionales (X_train, X_test, y_train, y_test), de igual forma se realiza el mismo procedimiento con validación para así poder verificar que tan acertado es el algoritmo, luego de esto se imprimen los datos calculados como se muestra a continuación"
   ]
  },
  {
   "cell_type": "code",
   "execution_count": 8,
   "metadata": {},
   "outputs": [
    {
     "name": "stdout",
     "output_type": "stream",
     "text": [
      "Datos de entrenamiento: 33\n",
      "Datos de validación: 11\n",
      "Datos de test: 15\n"
     ]
    }
   ],
   "source": [
    "X_train, X_test, y_train, y_test = train_test_split(X, y, random_state=0)\n",
    "X_train, X_val, y_train, y_val = train_test_split(X_train, y_train, random_state=1)\n",
    "print(f\"Datos de entrenamiento: {X_train.shape[0]}\")\n",
    "print(f\"Datos de validación: {X_val.shape[0]}\")\n",
    "print(f\"Datos de test: {X_test.shape[0]}\")"
   ]
  },
  {
   "cell_type": "markdown",
   "metadata": {},
   "source": [
    "# Funciones de escala"
   ]
  },
  {
   "cell_type": "markdown",
   "metadata": {},
   "source": [
    "A continuación se hace un escalamiento de los datos o \"normalización\" de cada característica de modo que este en el rango de 0 a 1 para así obtener un mejor tratamiento de datos los cuales se aplicaran en los modelos de validación, es importante tener en cuenta que para los datos de entrenamiento se utiliza el fit_transform(), esto  para que podamos escalar los datos de entrenamiento y también aprender los parámetros de escala de esos datos. y para los datos de prueba únicamente el transform() esto con el fin de que el modelo únicamente aprenda de los parámetros en la sección de entrenamiento y no en la de validación y prueba"
   ]
  },
  {
   "cell_type": "code",
   "execution_count": 9,
   "metadata": {},
   "outputs": [],
   "source": [
    "scaler = MinMaxScaler()\n",
    "X_train = scaler.fit_transform(X_train)\n",
    "X_test = scaler.transform(X_test)\n",
    "X_val = scaler.transform(X_val)\n"
   ]
  },
  {
   "cell_type": "markdown",
   "metadata": {},
   "source": [
    "# Comparación de modelos en validación"
   ]
  },
  {
   "cell_type": "markdown",
   "metadata": {},
   "source": [
    "Ya después de tener estos datos se continúa con la aplicación de los modelos de validación en donde se verificará la precisión del clasificador"
   ]
  },
  {
   "cell_type": "markdown",
   "metadata": {},
   "source": [
    "## Logistic regression"
   ]
  },
  {
   "cell_type": "code",
   "execution_count": 10,
   "metadata": {},
   "outputs": [
    {
     "name": "stdout",
     "output_type": "stream",
     "text": [
      "Accuracy of Logistic regression classifier on training set: 0.76\n",
      "Accuracy of Logistic regression classifier on validation set: 0.45\n"
     ]
    }
   ],
   "source": [
    "logreg = LogisticRegression()\n",
    "logreg.fit(X_train, y_train)\n",
    "print('Accuracy of Logistic regression classifier on training set: {:.2f}'.format(logreg.score(X_train, y_train)))\n",
    "print('Accuracy of Logistic regression classifier on validation set: {:.2f}'.format(logreg.score(X_val, y_val)))"
   ]
  },
  {
   "cell_type": "markdown",
   "metadata": {},
   "source": [
    "## KNN"
   ]
  },
  {
   "cell_type": "code",
   "execution_count": 11,
   "metadata": {},
   "outputs": [
    {
     "name": "stdout",
     "output_type": "stream",
     "text": [
      "Accuracy of K-NN-1 classifier on training set: 1.00\n",
      "Accuracy of K-NN-1 classifier on validation set: 0.64\n",
      "Accuracy of K-NN-2 classifier on training set: 0.82\n",
      "Accuracy of K-NN-2 classifier on validation set: 0.64\n",
      "Accuracy of K-NN-3 classifier on training set: 0.88\n",
      "Accuracy of K-NN-3 classifier on validation set: 0.64\n"
     ]
    }
   ],
   "source": [
    "knn1 = KNeighborsClassifier(n_neighbors=1)\n",
    "knn1.fit(X_train, y_train)\n",
    "print('Accuracy of K-NN-1 classifier on training set: {:.2f}'.format(knn1.score(X_train, y_train)))\n",
    "print('Accuracy of K-NN-1 classifier on validation set: {:.2f}'.format(knn1.score(X_val, y_val)))\n",
    "\n",
    "knn2 = KNeighborsClassifier(n_neighbors=2)\n",
    "knn2.fit(X_train, y_train)\n",
    "print('Accuracy of K-NN-2 classifier on training set: {:.2f}'.format(knn2.score(X_train, y_train)))\n",
    "print('Accuracy of K-NN-2 classifier on validation set: {:.2f}'.format(knn2.score(X_val, y_val)))\n",
    "\n",
    "knn3 = KNeighborsClassifier(n_neighbors=3)\n",
    "knn3.fit(X_train, y_train)\n",
    "print('Accuracy of K-NN-3 classifier on training set: {:.2f}'.format(knn3.score(X_train, y_train)))\n",
    "print('Accuracy of K-NN-3 classifier on validation set: {:.2f}'.format(knn3.score(X_val, y_val)))"
   ]
  },
  {
   "cell_type": "markdown",
   "metadata": {},
   "source": [
    "## Linear discrimination analysis"
   ]
  },
  {
   "cell_type": "code",
   "execution_count": 12,
   "metadata": {},
   "outputs": [
    {
     "name": "stdout",
     "output_type": "stream",
     "text": [
      "Accuracy of LDA classifier on training set: 0.94\n",
      "Accuracy of LDA classifier on validation set: 0.55\n"
     ]
    }
   ],
   "source": [
    "lda = LinearDiscriminantAnalysis()\n",
    "lda.fit(X_train, y_train)\n",
    "print('Accuracy of LDA classifier on training set: {:.2f}'.format(lda.score(X_train, y_train)))\n",
    "print('Accuracy of LDA classifier on validation set: {:.2f}'.format(lda.score(X_val, y_val)))"
   ]
  },
  {
   "cell_type": "markdown",
   "metadata": {},
   "source": [
    "## Gaussian Naive Bayes"
   ]
  },
  {
   "cell_type": "code",
   "execution_count": 13,
   "metadata": {},
   "outputs": [
    {
     "name": "stdout",
     "output_type": "stream",
     "text": [
      "Accuracy of GNB classifier on training set: 0.88\n",
      "Accuracy of GNB classifier on validation set: 0.45\n"
     ]
    }
   ],
   "source": [
    "gnb = GaussianNB()\n",
    "gnb.fit(X_train, y_train)\n",
    "print('Accuracy of GNB classifier on training set: {:.2f}'.format(gnb.score(X_train, y_train)))\n",
    "print('Accuracy of GNB classifier on validation set: {:.2f}'.format(gnb.score(X_val, y_val)))"
   ]
  },
  {
   "cell_type": "markdown",
   "metadata": {},
   "source": [
    "## Support Vector Machine"
   ]
  },
  {
   "cell_type": "code",
   "execution_count": 14,
   "metadata": {},
   "outputs": [
    {
     "name": "stdout",
     "output_type": "stream",
     "text": [
      "Accuracy of SVM classifier on training set: 0.85\n",
      "Accuracy of SVM classifier on validation set: 0.55\n"
     ]
    }
   ],
   "source": [
    "svm = SVC()\n",
    "svm.fit(X_train, y_train)\n",
    "print('Accuracy of SVM classifier on training set: {:.2f}'.format(svm.score(X_train, y_train)))\n",
    "print('Accuracy of SVM classifier on validation set: {:.2f}'.format(svm.score(X_val, y_val)))"
   ]
  },
  {
   "cell_type": "markdown",
   "metadata": {},
   "source": [
    "# Test"
   ]
  },
  {
   "cell_type": "markdown",
   "metadata": {},
   "source": [
    "Luego de aplicar cada modelo se continua a verificar cual obtuvo un mejor resultado, en este caso el modelo que obtuvo el mejor resultado de validación fue el de KNN con un 64% por lo tanto para rectificar la precisión del clasificador de regresión logística en el conjunto de prueba se debe traer el score del KNN en este caso el primero (knn1)"
   ]
  },
  {
   "cell_type": "code",
   "execution_count": 15,
   "metadata": {},
   "outputs": [
    {
     "name": "stdout",
     "output_type": "stream",
     "text": [
      "Accuracy of KNN classifier on test set: 0.93\n"
     ]
    }
   ],
   "source": [
    "print('Accuracy of KNN classifier on test set: {:.2f}'.format(knn1.score(X_test, y_test)))"
   ]
  },
  {
   "cell_type": "markdown",
   "metadata": {},
   "source": [
    "## Detalles sobre el conjunto de prueba"
   ]
  },
  {
   "cell_type": "markdown",
   "metadata": {},
   "source": [
    "A continuación se muestra una matriz en donde se muestran las precisiones que se obtuvieron con respecto a los diferentes tipos de figuras (1=círculos, 2= cuadrado, 3= secchi3000) de allí se puede observar que se obtuvo buenos resultados para los círculos y secchi3000 con una precisión del 100%"
   ]
  },
  {
   "cell_type": "code",
   "execution_count": 16,
   "metadata": {},
   "outputs": [
    {
     "name": "stdout",
     "output_type": "stream",
     "text": [
      "[[3 1 0]\n",
      " [0 4 0]\n",
      " [0 0 7]]\n",
      "              precision    recall  f1-score   support\n",
      "\n",
      "           1       1.00      0.75      0.86         4\n",
      "           2       0.80      1.00      0.89         4\n",
      "           3       1.00      1.00      1.00         7\n",
      "\n",
      "    accuracy                           0.93        15\n",
      "   macro avg       0.93      0.92      0.92        15\n",
      "weighted avg       0.95      0.93      0.93        15\n",
      "\n"
     ]
    }
   ],
   "source": [
    "pred = knn1.predict(X_test)\n",
    "print(confusion_matrix(y_test, pred))\n",
    "print(classification_report(y_test, pred))"
   ]
  },
  {
   "cell_type": "markdown",
   "metadata": {},
   "source": [
    "# Conclusiones\n",
    "\n",
    "En primer lugar, se logra obtener resultados satisfactorios con el desarrollo para abordar el problema de la clasificación multiclase, logrando llegar a resultados de precisión del 100%, a partir de un conjunto de datos, en donde más características y muestras se tengan, más preciso será este en sus predicciones, dado que permite un mejor aprendizaje en los diferentes modelos. Para llegar a esto primero se pensó en únicamente la característica de contornos que contenía cada imagen, sin embargo al observar los resultados los porcentajes no subían de 63% en los modelos como en la matriz de confusión, por lo que para mejorar se tomó la decisión de realizar una búsqueda sobre datos relevante que se puedan extraer de una imagen, en donde se logrará una mejor distinción entre los grupos de imágenes, con esto se implementaron otras dos características que permitieron una mejor precisión en el algoritmo, que fueron área por contorno y ángulo de Harris, lo cual efectivamente mejoro los resultados logrando obtener resultado del 100% o cercanos.\n",
    "\n",
    "Con respecto a los resultados, se puede afirmar que el procesamiento de la base de datos de imágenes su dispersión no es muy grande entre los diferentes grupos por lo que permite un mejor resultado, como se muestra en la gráfica \"figures_scatter_matrix.png\", en donde se observa cada una de las características obtenidas y su comportamiento, de igual forma, se concluye que la nitidez, resolución y contraste de las imágenes entran de igual forma como aspecto importante dado que al implementar archivos en donde las figuras se ven nubladas su precisión tiende a bajar dado la dificultad en lograr identificar los contornos, áreas y ángulos.\n",
    "\n",
    "Finalmente, se observó también que cada modelo varia su resultado dependiendo del problema, en este caso el modelo que mejor resultado tuvo fue el KNN, sin embargo existen ocasiones que al implementar o reducir la cantidad de características el modelo más eficiente cambia por lo tanto es importante verificar siempre los datos para obtener mejores predicciones, por lo que como factores claves para lograr esto es tener en cuenta la medida de desempeño que se quiera tener en cuenta y la normalización de los datos, debido a que esto permite facilitar el aprendizaje a los diferentes modelos, buscando la forma más optima y eficaz. \n"
   ]
  },
  {
   "cell_type": "markdown",
   "metadata": {},
   "source": [
    "## Referencias\n",
    "\n",
    "1. A. (2020b, junio 14). Detectando FIGURAS GEOMÉTRICAS (🔵🔺⬛) con OpenCV - Python » omes-va.com. OMES. https://omes-va.com/detectando-figuras-geometricas-con-opencv-python/\n",
    "2. A. (2020a, junio 14). 👩 Reconocimiento Facial 👨 | Python - OpenCV » omes-va.com. OMES. https://omes-va.com/reconocimiento-facial-python-opencv/\n",
    "3. N. (2020c, junio 25). Clasificación de Imágenes en Python. Aprende Machine Learning. https://www.aprendemachinelearning.com/clasificacion-de-imagenes-en-python/\n",
    "4. M. (2021, 5 octubre). Detección de bordes Canny - openCV python. kipunaEc. https://noemioocc.github.io/posts/Detecci%C3%B3n-de-bordes-Canny-openCV-python/\n",
    "5. Hernández, L. D. V. (2021, 1 diciembre). Detector de bordes Canny, cómo contar objetos con OpenCV y Python. Programar fácil con Arduino. https://programarfacil.com/blog/vision-artificial/detector-de-bordes-canny-opencv/\n",
    "6. OpenCV: OpenCV modules. (s. f.). Opencv. https://docs.opencv.org/4.x/\n",
    "7. MinMaxScaler | Interactive Chaos. (s. f.). Interactivechaos. https://interactivechaos.com/es/manual/tutorial-de-machine-learning/minmaxscaler\n",
    "8. Calcular las características del contorno en OpenCV - programador clic. (s. f.). Programador clic. https://programmerclick.com/article/21701852880/\n",
    "9. Detección de ángulos de Harris de OpenCV-Python - programador clic. (s. f.). Programador clic. https://programmerclick.com/article/13532152546/"
   ]
  }
 ],
 "metadata": {
  "interpreter": {
   "hash": "caa4bac2976725fb784072d3da90fc1e919079a28232bef91ea16ce43814682e"
  },
  "kernelspec": {
   "display_name": "Python 3.9.7 64-bit",
   "language": "python",
   "name": "python3"
  },
  "language_info": {
   "codemirror_mode": {
    "name": "ipython",
    "version": 3
   },
   "file_extension": ".py",
   "mimetype": "text/x-python",
   "name": "python",
   "nbconvert_exporter": "python",
   "pygments_lexer": "ipython3",
   "version": "3.9.7"
  },
  "orig_nbformat": 4
 },
 "nbformat": 4,
 "nbformat_minor": 2
}
